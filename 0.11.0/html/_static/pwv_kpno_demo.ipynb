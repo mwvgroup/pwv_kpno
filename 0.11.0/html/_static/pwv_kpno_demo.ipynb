{
 "cells": [
  {
   "cell_type": "markdown",
   "metadata": {},
   "source": [
    "Examples are provided on how to correct astronomical observations for\n",
    "atmospheric effects. For demonstration purposes, the following examples\n",
    "exclusively consider correcting observations of a black body."
   ]
  },
  {
   "cell_type": "markdown",
   "metadata": {},
   "source": [
    "## Spectrographic Observations"
   ]
  },
  {
   "cell_type": "markdown",
   "metadata": {},
   "source": [
    "In order to correct specrographic observations for atmospheric effects,\n",
    "observed spectra are divided by the atmospheric transmission function. As\n",
    "an example, consider the spectral energy distribution (SED) of a black body\n",
    "under the effects of atmospheric absorption. For a temperature of 8,000 K, and\n",
    "a PWV level of 15 mm, this can be found as"
   ]
  },
  {
   "cell_type": "code",
   "execution_count": 1,
   "metadata": {},
   "outputs": [
    {
     "name": "stdout",
     "output_type": "stream",
     "text": [
      "[67943236.69609079 70958962.41142142 62627486.36859217 62880671.63407001\n",
      " 62513485.51967486 63058747.67338449 61110444.36407656 59221775.73675153\n",
      " 57395177.10964452 55513103.21142037 51811690.73561192 51911555.0857156\n",
      " 44194129.49981948 48607782.58147565 41482678.59910741 46144046.17659909\n",
      " 44824567.81888515 43492384.1617855  42199645.17754546 40860832.93858474\n",
      " 38511276.79340703 35308534.66156565 35854592.31322291 13213391.88383076\n",
      " 31739851.68482697  3175256.11453751 26648422.40842594 28300788.53752817\n",
      " 30913697.98483177 29947238.79680985]\n"
     ]
    }
   ],
   "source": [
    "from pwv_kpno import blackbody_with_atm as bb_atm\n",
    "import numpy as np\n",
    "\n",
    "temp = 8000\n",
    "wavelengths = np.arange(7000, 10000, 100)\n",
    "pwv = 15\n",
    "\n",
    "sed = bb_atm.sed(temp, wavelengths, pwv)\n",
    "print(sed)\n"
   ]
  },
  {
   "cell_type": "markdown",
   "metadata": {},
   "source": [
    "Since we know the PWV level used to generate this spectra, we can determine the\n",
    "corresponding transmission function using the ``trans_for_pwv`` function"
   ]
  },
  {
   "cell_type": "code",
   "execution_count": 2,
   "metadata": {},
   "outputs": [
    {
     "name": "stdout",
     "output_type": "stream",
     "text": [
      "    wavelength        transmission   \n",
      "     Angstrom              %         \n",
      "------------------ ------------------\n",
      "            7000.0 0.9198165020431311\n",
      " 7001.000333444482 0.8590254136327501\n",
      " 7002.000666888963 0.9967736288238565\n",
      " 7003.001000333445 0.9934494271823038\n",
      "7004.0013337779255 0.9607896418908324\n",
      " 7005.001667222407 0.9947675112942339\n",
      " 7006.002000666889 0.9887061420963239\n",
      "  7007.00233411137 0.8805365960557212\n",
      " 7008.002667555852 0.9708917349052267\n",
      " 7009.003001000334 0.9925593320994702\n",
      "               ...                ...\n",
      " 9990.996998999666 0.9797313896855093\n",
      " 9991.997332444149 0.9964175769435284\n",
      "  9992.99766588863 0.9965329454238108\n",
      "  9993.99799933311 0.9991854372141895\n",
      " 9994.998332777592 0.9977433129559928\n",
      " 9995.998666222074 0.9811599116724874\n",
      " 9996.998999666555 0.9943027771012202\n",
      " 9997.999333111036 0.9987372729496821\n",
      " 9998.999666555519  0.999357354753788\n",
      "           10000.0 0.9990180076538167\n",
      "Length = 3000 rows\n"
     ]
    }
   ],
   "source": [
    "from pwv_kpno import pwv_atm\n",
    "\n",
    "modeled_trans = pwv_atm.trans_for_pwv(15)\n",
    "print(modeled_trans)"
   ]
  },
  {
   "cell_type": "markdown",
   "metadata": {},
   "source": [
    "In order to divide these two results, the SED at and the transmission function\n",
    "must both be known for the same wavelength values. Since the SED is a well\n",
    "behaved function, we interpolate the SED to match the wavelength sampling of\n",
    "the transmission function. In general the transmission function not a smooth\n",
    "function,which can yield innacuracies when interpolating.\n",
    "\n",
    "Using the ``numpy`` package, we interpolate as follows:\n"
   ]
  },
  {
   "cell_type": "code",
   "execution_count": 7,
   "metadata": {
    "collapsed": true
   },
   "outputs": [],
   "source": [
    "sampled_sed = np.interp(modeled_trans[\"wavelength\"],\n",
    "                        wavelengths,\n",
    "                        sed)\n"
   ]
  },
  {
   "cell_type": "markdown",
   "metadata": {},
   "source": [
    "The corrected spectrum can then be found by dividing the observed flux\n",
    "by the transmission on a wavelength by wavelength basis.\n"
   ]
  },
  {
   "cell_type": "code",
   "execution_count": 8,
   "metadata": {
    "collapsed": true
   },
   "outputs": [],
   "source": [
    "corrected_spec = np.divide(sampled_sed, modeled_trans[\"transmission\"])"
   ]
  },
  {
   "cell_type": "code",
   "execution_count": 10,
   "metadata": {},
   "outputs": [],
   "source": [
    "i_band = (7000, 8500)\n",
    "\n",
    "weighted_transmission = np.multiply(sampled_sed, modeled_trans[\"transmission\"])\n",
    "numerator = np.trapz(weighted_transmission, i_band)\n",
    "denominator = np.trapz(sampled_sed, i_band)\n",
    "photo_corr = np.divide(numerator, denominator)"
   ]
  },
  {
   "cell_type": "code",
   "execution_count": null,
   "metadata": {
    "collapsed": true
   },
   "outputs": [],
   "source": []
  }
 ],
 "metadata": {
  "kernelspec": {
   "display_name": "Python 3",
   "language": "python",
   "name": "python3"
  },
  "language_info": {
   "codemirror_mode": {
    "name": "ipython",
    "version": 3
   },
   "file_extension": ".py",
   "mimetype": "text/x-python",
   "name": "python",
   "nbconvert_exporter": "python",
   "pygments_lexer": "ipython3",
   "version": "3.6.1"
  }
 },
 "nbformat": 4,
 "nbformat_minor": 2
}
